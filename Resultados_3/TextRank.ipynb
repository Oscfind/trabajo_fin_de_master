{
 "cells": [
  {
   "cell_type": "code",
   "execution_count": 3,
   "metadata": {},
   "outputs": [
    {
     "ename": "ModuleNotFoundError",
     "evalue": "No module named 'bleurt'",
     "output_type": "error",
     "traceback": [
      "\u001b[1;31m---------------------------------------------------------------------------\u001b[0m",
      "\u001b[1;31mModuleNotFoundError\u001b[0m                       Traceback (most recent call last)",
      "Cell \u001b[1;32mIn[3], line 2\u001b[0m\n\u001b[0;32m      1\u001b[0m \u001b[38;5;28;01mimport\u001b[39;00m \u001b[38;5;21;01mpandas\u001b[39;00m \u001b[38;5;28;01mas\u001b[39;00m \u001b[38;5;21;01mpd\u001b[39;00m\n\u001b[1;32m----> 2\u001b[0m \u001b[38;5;28;01mfrom\u001b[39;00m \u001b[38;5;21;01mbleurt\u001b[39;00m \u001b[38;5;28;01mimport\u001b[39;00m score\n\u001b[0;32m      3\u001b[0m \u001b[38;5;28;01mfrom\u001b[39;00m \u001b[38;5;21;01mtransformers\u001b[39;00m \u001b[38;5;28;01mimport\u001b[39;00m AutoTokenizer\n\u001b[0;32m      4\u001b[0m \u001b[38;5;28;01mfrom\u001b[39;00m \u001b[38;5;21;01mgensim\u001b[39;00m\u001b[38;5;21;01m.\u001b[39;00m\u001b[38;5;21;01msummarization\u001b[39;00m \u001b[38;5;28;01mimport\u001b[39;00m summarize\n",
      "\u001b[1;31mModuleNotFoundError\u001b[0m: No module named 'bleurt'"
     ]
    }
   ],
   "source": [
    "import pandas as pd\n",
    "from bleurt import score\n",
    "from transformers import AutoTokenizer\n",
    "from gensim.summarization import summarize\n",
    "\n",
    "# Cargar el tokenizer\n",
    "tokenizer = AutoTokenizer.from_pretrained(\"google/bleurt-base-128\")\n",
    "\n",
    "# Cargar el dataframe\n",
    "df_ref = pd.read_csv(\"tu_archivo.csv\")  # Asegúrate de proporcionar la ruta correcta al archivo CSV\n",
    "\n",
    "# Crear una lista para almacenar los resúmenes generados y los puntajes BLEURT\n",
    "generated_summaries = []\n",
    "bleurt_scores = []\n",
    "\n",
    "# Iterar sobre cada artículo y calcular el resumen utilizando TextRank y luego el puntaje BLEURT\n",
    "for article in df_ref['article']:\n",
    "    # Generar resumen utilizando TextRank\n",
    "    generated_summary = summarize(article)\n",
    "    # Calcular BLEURT score\n",
    "    bleurt_score = score([generated_summary], [article], tokenizer=tokenizer)[0]\n",
    "    generated_summaries.append(generated_summary)\n",
    "    bleurt_scores.append(bleurt_score)\n",
    "\n",
    "# Agregar los resúmenes generados y los puntajes BLEURT al DataFrame\n",
    "df_ref['generated_summary'] = generated_summaries\n",
    "df_ref['bleurt_score'] = bleurt_scores\n",
    "\n",
    "# Imprimir el DataFrame con los resúmenes generados y los puntajes BLEURT asociados\n",
    "print(df_ref[['article', 'abstract', 'generated_summary', 'bleurt_score']])\n"
   ]
  }
 ],
 "metadata": {
  "kernelspec": {
   "display_name": "tfm",
   "language": "python",
   "name": "python3"
  },
  "language_info": {
   "codemirror_mode": {
    "name": "ipython",
    "version": 3
   },
   "file_extension": ".py",
   "mimetype": "text/x-python",
   "name": "python",
   "nbconvert_exporter": "python",
   "pygments_lexer": "ipython3",
   "version": "3.11.7"
  }
 },
 "nbformat": 4,
 "nbformat_minor": 2
}
