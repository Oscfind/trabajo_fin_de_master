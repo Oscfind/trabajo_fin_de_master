{
 "cells": [
  {
   "cell_type": "code",
   "execution_count": 2,
   "metadata": {},
   "outputs": [
    {
     "name": "stderr",
     "output_type": "stream",
     "text": [
      "Some weights of the model checkpoint at bert-base-uncased were not used when initializing BertForMaskedLM: ['bert.pooler.dense.bias', 'bert.pooler.dense.weight', 'cls.seq_relationship.bias', 'cls.seq_relationship.weight']\n",
      "- This IS expected if you are initializing BertForMaskedLM from the checkpoint of a model trained on another task or with another architecture (e.g. initializing a BertForSequenceClassification model from a BertForPreTraining model).\n",
      "- This IS NOT expected if you are initializing BertForMaskedLM from the checkpoint of a model that you expect to be exactly identical (initializing a BertForSequenceClassification model from a BertForSequenceClassification model).\n"
     ]
    },
    {
     "name": "stdout",
     "output_type": "stream",
     "text": [
      "Resumen completo del artículo:\n",
      "direct central nervous system ( cns ) involvement in hodgkin's lymphoma is extremely rare with an incidence of approximately 0. 02 %, though primary manifestations of hodgkin's lymphoma in meninges, cerebral fluid or the brain parenchyma are known. cerebral involvement as cns - hodgkin's lymphoma is described in patients with former chronic lymphatic leukemia as a richter transformation..... cerebral trauma. cerebral........ cerebral................. cerebral involvement - cerebral cerebral. cerebral. cerebral... cerebral. cerebral cerebral . cns manifestations, such as paraneoplastic cerebellar degeneration ( pcd ) in the presence of antibodies ( i. e. anti - tr or anti - mglur1 ) against antigens in purkinje cells, are well known paraneoplastic manifestations of lymphomas [ 6, 7 ]. suggested therapies are steroids, intravenous immunoglobulin and plasmapheresis. further, autoimmune disorders such as vasculitis, in particu other. common....... are :............ and specific.. specific...., lar granulomatous angiitis, have been described as complications in patients with hodgkin's lymphoma. small and middle - sized vessels of the brain can be affected in the cns ; this was first described in 1957 by reich. in hodgkin's lymphoma, a case series containing histology and clinical course of 10 patients has been published. a 25 - year - old male patient presented to our ear, no the complications. no the ho - o - o - o. no the dermal or deriastic or the nasal. no. no. no. no the nasal dermatous or nasal or the nasal. no the nasal or the nasal or der se and throat clinic complaining of nausea lasting for 3 months, vertigo, headache and weight loss of 5 kg due to repetitive vomiting. further examination demonstrated an enlarged cervical lymph node on level v. extirpation of the node was performed and histology showed nodular lymphocyte - predominant hodgkin's lymphoma ( nlphl, nodular paragranuloma ) ( fig. 2 ), and bone marrow aspir reported. reported.. and.............................. a.. a. a.. a.. a. a l ation and biopsy defined stage ii disease. because of the neurological symptoms ( nausea, vertigo and headache ) cerebral mri was performed and demonstrated intense perivascular, bilateral infiltration of the temporal lobes suspicious of vasculitis ( fig. cerebrospinal fluid ( csf ) analysis showed an increased number of mononuclear cells, but there was no indication for neurotropic viral o blood or blood. ) the underlying underlying cause was unknown.. cerebral... cerebral.... cerebral.......................... cerebral. cerebral.. cerebral.. cerebral... cerebral. cerebral r bacterial infections. specific onconeural antibodies ( anti - hu, anti - yo, anti - ri, anti - cv2, anti - amphiphysin, anti - ma1, anti - ma2 / ta, anti - tr ) were negative. anti - epileptic therapy with levetiracetam and lamotrigine was started. for therapy of suspected cerebral vasculitis the patient was discharged from the hospital and outpatient chemotherapy with 2 cycles of r. r. r. r. r. r... r. r an incident of an incident or an incident. r. r. r.. r.. r. incident. r. r.. r.. antisen abvd ( adriamycin, bleomycin, vinblastine and dacarabazine ) was started. within the second cycle of chemotherapy the patient developed a bleomycin pneumopathy and bleomycin after termination of 2 cycles of chemotherapy, involved - field radiotherapy with 20 gy followed. because of renewed onset of nausea and vertigo after 3 weeks of treatment with abvd and 4 weeks of treatment with stero enteric chemotherapy ( vinblastine and vincloma. ) the first phase of chemotherapy with the vin and the the vin. the second. the vin and the the the the the the the vin the the the the vinclcl the the the the the the the ids, a follow - up brain mri was performed and demonstrated complete disappearance of the five months after diagnosis and end of chemotherapy, the patient is in good health without any complaints of nausea, emesis, vertigo or headache. clinically and on pet - ct, there is no evidence of enlarged lymph nodes or metabolically active lymphoma. the patient has given his written informed c on. on. \" after a successful chemotherapy, a second. scans scan showed a complete. in the first week. \" after......... a................. after the first chemotherapy. \" no further. \". \". no further onsent for the case report to be published. direct involvement of the cns in hodgkin's lymphoma is rare, with an incidence of about 0. 02 %, and to our knowledge has never been described in nlphl. however, various paraneoplastic events in the nervous system, in particular the cns, have been described in hodgkin's lymphoma patients and are summarized in table 1. however, every other see article on.. see... see. see.. see.......... article....... see. a.. a.. a.. an.. the actual part of the nervous system can also be affected by paraneoplastic antibodies. guillain - barr syndrome and subacute polyradiculopathy have been reported in hodgkin's lymphoma and observed after allogeneic stem cell transplantation. denny - brown syndrome ( paraneoplastic subacute sensory neuropathy ) is not common in hodgkin's lymphomas but mainly described in small cell lung cancer. it.. is............ it is not usually not.......... it is. barr syndrome, barr and barr syndrome polyradial polyradial polypathy has is associated with anti - hu antibodies and is characterized by a severe inflammatory loss of the dorsal roots ganglia. in a patient with thymic hodgkin's lymphoma, myasthenia gravis due to anti - achr antibodies was described. after successful treatment, remission of myasthenia occurred as well. other antibodies against neural structures have been described in several case reports. to e - - hu - deficiency deficiency is due to a progressive progressive.. in the dorsal root.. it.. it...................... -.. a.. a thy.. thy.... a t al. have found a 65 kd antibody against retinal protein that caused night blindness in a 24 - year - old woman 1 week after initiation of chemotherapy for hodgkin's lymphoma. the differential diagnosis included pdc typically presenting with dizziness, nausea and vomiting, usually with acute onset and followed several days later by gait instability, oscillopsia, diplopia, ataxia, dysar the same antibody targets. the same. the same............................... a.. a.. the same.. the same. the same. thria and dysphagia [ 6, 7 ]. possible causes of pdc are circulating anti - tr and anti - mglur1 antibodies destroying purkinje cells in the cerebellum and leading to severe symptoms in particular ataxia [ 6, 7 ]. our patient had several of these symptoms such as nausea, vomiting and vertigo, but no focal loss of neurological function was found on clinical examination. we found neithe [ [ 7 ]. other other possible causes include a seizure ; a headache ; a severe or severe or severe, or a severe or severe. | | | | | | | | | | | | | | | | | | | | | | | | | | | | | r pathologic unterberg's stepping test nor dysdiadochokinesia, other typical clinical signs of pdc, and laboratory testing further excluded this differential diagnosis since pcd - causing anti - tr antibodies could not be found in serum or csf, neither at diagnosis nor after treatment. finally, mri of our patient did not demonstrate any degeneration in the cerebellum. however, cerebral m neither. r. r r. r. rhohy. hyperkinesia, or other common disease. rho. r... r.. r.. r.. rhenhen.. r. r.. r.. r.. r.. r.. ri showed perivascular bilateral infiltration of the temporal lobes consistent with vasculitis changes, presumably due to a paraneoplastic vasculitis, known in the literature as granulomatous angiitis. the appearance of hodgkin's lymphoma and granulomatous angiitis of the cns was first described in 1972 by greco et al.. furthermore, the authors suggested a possible association with vari micro -, and other vasculitis. ri ri ri ri ri ri ri ri risculis - type - 1, ri ri ri ri ri ri ri ri ri ri, riscu ri ri ri ri ri extraneoplastic paraplastic vacciis cella - zoster virus and the appearance of granulomatous angiitis in hodgkin's lymphoma. paraneoplastic angiitis is extremely rare in hodgkin's lymphoma patients but has been described in a small series with poor outcome. rapid onset of therapy is necessary to avoid neurological complications including venous thrombosis or stroke. long - term steroid therapy seems to be necessary in som and chronic. infectious.......................... and chronic... in chronic and in chronic. chronic and in chronic. chronic. chronic. chronic e patients to avoid recurrence of neurological symptoms. in our patient, direct involvement of the cns by hodgkin's lymphoma seems highly unlikely since normal liquor cytology was demonstrated and the patient is in continuous remission 5 months after diagnosis. it has to be stressed, however, that liquor cytology is not sensitive and specific enough to establish or rule out the diagnosis help. help.. to prevent the remission of the neurological.. in the patient. the involvement of the alcohol in the alcohol. help help. to prevent the re - onset of the neurological.. help.... help. help. the.... a.. the alcohol l - linked l - linked is of direct cns involvement of hodgkin's lymphoma. gerstner et al. analyzed a series of 16 cases of cns hodgkin's lymphoma, and 9 of these 16 patients had lumbar puncture but only 2 patients had atypical cells in liquor and just 1 had cd30 positive cells. on the other hand, to our knowledge there is no case of nlphl documented with direct cns involvement [ 1, 4 ]. in conclusion, we pr of the direct.. the direct and the indirect, the.......... the direct and the the the the. of the the the the the the the the the esent the case of a 25 - year - old patient with new onset epileptic seizures. further examination demonstrated nlphl stage ii a and mri showed cerebral vasculitis, most likely granulomatous angiitis. because of the well - known poor outcome of this condition in the absence of rapid treatment, the patient was immediately treated with steroids and chemotherapy and is now in complete and endurin in the us.. a - old - age with severe - onset - seizures and seizures. further examination showed that. es...... a............... further examination has... a.. a.. a... g oncological and neurological remission 5 months after diagnosis. patients with hodgkin's lymphoma and neurological symptoms of recent onset require urgent clinical work - up because the differential diagnosis is broad and includes several dangerous conditions. direct cns involvement is extremely rare but should be excluded by spinal tap or in unsecure cases by brain biopsy. additional g. g. g. g. g. g. g. complete occurs 3 - 4 months. g g g gd. g. g l g. g g giol. g g. g. g. g g g g g g g g. g g g g g g g g g g g g g g g g g. g work - up depends on the clinical presentation, and in patients with ataxia, an anti - tr antibody - positive pcd needs to be ruled out. most importantly, treatment should be initiated rapidly in all patients with hodgkin's lymphoma and neurological symptoms. this. therefore. therefore, treatment should be initiated, in both the acute and chronic, both - side of the brain and.... therefore, the clinical presentation itself. in all cases of severe mania, an anti - tr antibody or a pcd is required and therefore.. treatment.................. a.............\n"
     ]
    }
   ],
   "source": [
    "from transformers import BertTokenizer, BertForMaskedLM\n",
    "\n",
    "model_name = \"bert-base-uncased\"\n",
    "tokenizer = BertTokenizer.from_pretrained(model_name)\n",
    "model = BertForMaskedLM.from_pretrained(model_name)\n",
    "\n",
    "df_ref = pd.read_csv(\"df_ref.csv\")\n",
    "article = df_ref['article'][0]\n",
    "\n",
    "segmentos = [article[i:i+400] for i in range(0, len(article), 400)]\n",
    "\n",
    "resumenes = []\n",
    "for segmento in segmentos:\n",
    "    inputs = tokenizer.encode(segmento, return_tensors=\"pt\", max_length=512, truncation=True)\n",
    "    summary_ids = model.generate(inputs, max_length=150, min_length=40, length_penalty=2.0, num_beams=4, early_stopping=True)\n",
    "    summary = tokenizer.decode(summary_ids[0], skip_special_tokens=True)\n",
    "    resumenes.append(summary)\n",
    "\n",
    "resumen_completo = \" \".join(resumenes)\n",
    "\n",
    "print(\"Resumen completo del artículo:\")\n",
    "print(resumen_completo)\n"
   ]
  }
 ],
 "metadata": {
  "kernelspec": {
   "display_name": "tfm",
   "language": "python",
   "name": "python3"
  },
  "language_info": {
   "codemirror_mode": {
    "name": "ipython",
    "version": 3
   },
   "file_extension": ".py",
   "mimetype": "text/x-python",
   "name": "python",
   "nbconvert_exporter": "python",
   "pygments_lexer": "ipython3",
   "version": "3.11.7"
  }
 },
 "nbformat": 4,
 "nbformat_minor": 2
}
